{
 "cells": [
  {
   "cell_type": "code",
   "execution_count": null,
   "id": "7c65aa40",
   "metadata": {},
   "outputs": [],
   "source": [
    "# Import modules\n",
    "import numpy as np\n",
    "import pandas as pd\n",
    "import matplotlib.pyplot as plt\n",
    "\n",
    "\n",
    "# Import data & clean\n",
    "# From: https://databank.worldbank.org/source/food-prices-for-nutrition\n",
    "path2file = './'\n",
    "fn = 'cost of healthy diet.csv'\n",
    "colHeads = [\"Classification Name\", \"Classification Code\", \"Series Name\", \"Series Code\", \"Country Name\", \"Country Code\", \"2017\", \"2018\", \"2019\", \"2020\", \"2021\"]\n",
    "DF = pd.read_csv(path2file+fn, skiprows=1, names=colHeads, encoding='ISO-8859-1') \n",
    "\n",
    "Diet = DF.drop(columns=[\"Classification Name\", \"Classification Code\"])\n",
    "Diet2 = Diet.drop([372, 373, 374, 375, 376, 377, 378, 379])\n",
    "DFDiet = pd.DataFrame(Diet2)\n",
    "DFDiet"
   ]
  }
 ],
 "metadata": {
  "kernelspec": {
   "display_name": "Python 3 (ipykernel)",
   "language": "python",
   "name": "python3"
  },
  "language_info": {
   "codemirror_mode": {
    "name": "ipython",
    "version": 3
   },
   "file_extension": ".py",
   "mimetype": "text/x-python",
   "name": "python",
   "nbconvert_exporter": "python",
   "pygments_lexer": "ipython3",
   "version": "3.11.5"
  }
 },
 "nbformat": 4,
 "nbformat_minor": 5
}
